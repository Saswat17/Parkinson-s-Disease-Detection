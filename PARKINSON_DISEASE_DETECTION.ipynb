{
  "nbformat": 4,
  "nbformat_minor": 0,
  "metadata": {
    "colab": {
      "provenance": []
    },
    "kernelspec": {
      "name": "python3",
      "display_name": "Python 3"
    },
    "language_info": {
      "name": "python"
    }
  },
  "cells": [
    {
      "cell_type": "code",
      "execution_count": null,
      "metadata": {
        "id": "P7P09j2YLA1A"
      },
      "outputs": [],
      "source": [
        "import pandas as pd\n",
        "import numpy as np\n",
        "import seaborn as sns\n",
        "import matplotlib.pyplot as plt\n",
        "from sklearn.preprocessing import MinMaxScaler\n",
        "from sklearn.model_selection import train_test_split\n",
        "from sklearn.metrics import accuracy_score\n",
        "import warnings\n",
        "import pickle\n",
        "warnings.filterwarnings('ignore')"
      ]
    },
    {
      "cell_type": "markdown",
      "source": [
        "### Importing CSV File"
      ],
      "metadata": {
        "id": "e9BvXUxHeQ_S"
      }
    },
    {
      "cell_type": "code",
      "source": [
        "df = pd.read_csv('Parkinsson disease.csv')"
      ],
      "metadata": {
        "id": "HgOzz2GiLV7o"
      },
      "execution_count": null,
      "outputs": []
    },
    {
      "cell_type": "markdown",
      "source": [
        "### Size of the Data"
      ],
      "metadata": {
        "id": "23_g4ODceZJM"
      }
    },
    {
      "cell_type": "code",
      "source": [
        "df.shape"
      ],
      "metadata": {
        "id": "UcchN0a5LoSV",
        "colab": {
          "base_uri": "https://localhost:8080/"
        },
        "outputId": "2cde139d-4b48-4c46-aefa-2839c2240655"
      },
      "execution_count": null,
      "outputs": [
        {
          "output_type": "execute_result",
          "data": {
            "text/plain": [
              "(195, 24)"
            ]
          },
          "metadata": {},
          "execution_count": 40
        }
      ]
    },
    {
      "cell_type": "code",
      "source": [
        "df.sample(5)"
      ],
      "metadata": {
        "colab": {
          "base_uri": "https://localhost:8080/",
          "height": 299
        },
        "id": "BtCwyr-Nk8lE",
        "outputId": "73ff9b27-821b-4322-9d4a-364cc2e7efa2"
      },
      "execution_count": null,
      "outputs": [
        {
          "output_type": "execute_result",
          "data": {
            "text/plain": [
              "               name  MDVP:Fo(Hz)  MDVP:Fhi(Hz)  MDVP:Flo(Hz)  MDVP:Jitter(%)  \\\n",
              "63   phon_R01_S17_4      228.832       234.619       223.634         0.00296   \n",
              "123  phon_R01_S31_2      182.018       197.173        79.187         0.00842   \n",
              "153  phon_R01_S37_1      121.345       139.644        98.250         0.00684   \n",
              "81   phon_R01_S20_4       95.605       107.715        87.549         0.00702   \n",
              "26   phon_R01_S06_3      171.041       208.313        75.501         0.00455   \n",
              "\n",
              "     MDVP:Jitter(Abs)  MDVP:RAP  MDVP:PPQ  Jitter:DDP  MDVP:Shimmer  ...  \\\n",
              "63            0.00001   0.00175   0.00155     0.00526       0.01644  ...   \n",
              "123           0.00005   0.00506   0.00449     0.01517       0.02503  ...   \n",
              "153           0.00006   0.00388   0.00332     0.01164       0.02534  ...   \n",
              "81            0.00007   0.00428   0.00371     0.01283       0.03156  ...   \n",
              "26            0.00003   0.00250   0.00234     0.00750       0.01966  ...   \n",
              "\n",
              "     Shimmer:DDA      NHR     HNR  status      RPDE       DFA   spread1  \\\n",
              "63       0.02647  0.00351  25.964       0  0.256570  0.683296 -7.245620   \n",
              "123      0.04115  0.01813  18.784       1  0.589956  0.732903 -5.445140   \n",
              "153      0.04019  0.04179  21.520       1  0.566867  0.670475 -4.865194   \n",
              "81       0.05377  0.01825  19.659       1  0.576084  0.778747 -5.132032   \n",
              "26       0.02666  0.01095  25.908       1  0.418622  0.720916 -6.183590   \n",
              "\n",
              "      spread2        D2       PPE  \n",
              "63   0.018689  2.498224  0.093534  \n",
              "123  0.142466  2.174306  0.215558  \n",
              "153  0.246404  2.013530  0.168581  \n",
              "81   0.210458  2.232576  0.260633  \n",
              "26   0.226278  2.589702  0.147403  \n",
              "\n",
              "[5 rows x 24 columns]"
            ],
            "text/html": [
              "\n",
              "  <div id=\"df-2a6556a7-39ad-4ecb-b43c-fa448c4021a3\">\n",
              "    <div class=\"colab-df-container\">\n",
              "      <div>\n",
              "<style scoped>\n",
              "    .dataframe tbody tr th:only-of-type {\n",
              "        vertical-align: middle;\n",
              "    }\n",
              "\n",
              "    .dataframe tbody tr th {\n",
              "        vertical-align: top;\n",
              "    }\n",
              "\n",
              "    .dataframe thead th {\n",
              "        text-align: right;\n",
              "    }\n",
              "</style>\n",
              "<table border=\"1\" class=\"dataframe\">\n",
              "  <thead>\n",
              "    <tr style=\"text-align: right;\">\n",
              "      <th></th>\n",
              "      <th>name</th>\n",
              "      <th>MDVP:Fo(Hz)</th>\n",
              "      <th>MDVP:Fhi(Hz)</th>\n",
              "      <th>MDVP:Flo(Hz)</th>\n",
              "      <th>MDVP:Jitter(%)</th>\n",
              "      <th>MDVP:Jitter(Abs)</th>\n",
              "      <th>MDVP:RAP</th>\n",
              "      <th>MDVP:PPQ</th>\n",
              "      <th>Jitter:DDP</th>\n",
              "      <th>MDVP:Shimmer</th>\n",
              "      <th>...</th>\n",
              "      <th>Shimmer:DDA</th>\n",
              "      <th>NHR</th>\n",
              "      <th>HNR</th>\n",
              "      <th>status</th>\n",
              "      <th>RPDE</th>\n",
              "      <th>DFA</th>\n",
              "      <th>spread1</th>\n",
              "      <th>spread2</th>\n",
              "      <th>D2</th>\n",
              "      <th>PPE</th>\n",
              "    </tr>\n",
              "  </thead>\n",
              "  <tbody>\n",
              "    <tr>\n",
              "      <th>63</th>\n",
              "      <td>phon_R01_S17_4</td>\n",
              "      <td>228.832</td>\n",
              "      <td>234.619</td>\n",
              "      <td>223.634</td>\n",
              "      <td>0.00296</td>\n",
              "      <td>0.00001</td>\n",
              "      <td>0.00175</td>\n",
              "      <td>0.00155</td>\n",
              "      <td>0.00526</td>\n",
              "      <td>0.01644</td>\n",
              "      <td>...</td>\n",
              "      <td>0.02647</td>\n",
              "      <td>0.00351</td>\n",
              "      <td>25.964</td>\n",
              "      <td>0</td>\n",
              "      <td>0.256570</td>\n",
              "      <td>0.683296</td>\n",
              "      <td>-7.245620</td>\n",
              "      <td>0.018689</td>\n",
              "      <td>2.498224</td>\n",
              "      <td>0.093534</td>\n",
              "    </tr>\n",
              "    <tr>\n",
              "      <th>123</th>\n",
              "      <td>phon_R01_S31_2</td>\n",
              "      <td>182.018</td>\n",
              "      <td>197.173</td>\n",
              "      <td>79.187</td>\n",
              "      <td>0.00842</td>\n",
              "      <td>0.00005</td>\n",
              "      <td>0.00506</td>\n",
              "      <td>0.00449</td>\n",
              "      <td>0.01517</td>\n",
              "      <td>0.02503</td>\n",
              "      <td>...</td>\n",
              "      <td>0.04115</td>\n",
              "      <td>0.01813</td>\n",
              "      <td>18.784</td>\n",
              "      <td>1</td>\n",
              "      <td>0.589956</td>\n",
              "      <td>0.732903</td>\n",
              "      <td>-5.445140</td>\n",
              "      <td>0.142466</td>\n",
              "      <td>2.174306</td>\n",
              "      <td>0.215558</td>\n",
              "    </tr>\n",
              "    <tr>\n",
              "      <th>153</th>\n",
              "      <td>phon_R01_S37_1</td>\n",
              "      <td>121.345</td>\n",
              "      <td>139.644</td>\n",
              "      <td>98.250</td>\n",
              "      <td>0.00684</td>\n",
              "      <td>0.00006</td>\n",
              "      <td>0.00388</td>\n",
              "      <td>0.00332</td>\n",
              "      <td>0.01164</td>\n",
              "      <td>0.02534</td>\n",
              "      <td>...</td>\n",
              "      <td>0.04019</td>\n",
              "      <td>0.04179</td>\n",
              "      <td>21.520</td>\n",
              "      <td>1</td>\n",
              "      <td>0.566867</td>\n",
              "      <td>0.670475</td>\n",
              "      <td>-4.865194</td>\n",
              "      <td>0.246404</td>\n",
              "      <td>2.013530</td>\n",
              "      <td>0.168581</td>\n",
              "    </tr>\n",
              "    <tr>\n",
              "      <th>81</th>\n",
              "      <td>phon_R01_S20_4</td>\n",
              "      <td>95.605</td>\n",
              "      <td>107.715</td>\n",
              "      <td>87.549</td>\n",
              "      <td>0.00702</td>\n",
              "      <td>0.00007</td>\n",
              "      <td>0.00428</td>\n",
              "      <td>0.00371</td>\n",
              "      <td>0.01283</td>\n",
              "      <td>0.03156</td>\n",
              "      <td>...</td>\n",
              "      <td>0.05377</td>\n",
              "      <td>0.01825</td>\n",
              "      <td>19.659</td>\n",
              "      <td>1</td>\n",
              "      <td>0.576084</td>\n",
              "      <td>0.778747</td>\n",
              "      <td>-5.132032</td>\n",
              "      <td>0.210458</td>\n",
              "      <td>2.232576</td>\n",
              "      <td>0.260633</td>\n",
              "    </tr>\n",
              "    <tr>\n",
              "      <th>26</th>\n",
              "      <td>phon_R01_S06_3</td>\n",
              "      <td>171.041</td>\n",
              "      <td>208.313</td>\n",
              "      <td>75.501</td>\n",
              "      <td>0.00455</td>\n",
              "      <td>0.00003</td>\n",
              "      <td>0.00250</td>\n",
              "      <td>0.00234</td>\n",
              "      <td>0.00750</td>\n",
              "      <td>0.01966</td>\n",
              "      <td>...</td>\n",
              "      <td>0.02666</td>\n",
              "      <td>0.01095</td>\n",
              "      <td>25.908</td>\n",
              "      <td>1</td>\n",
              "      <td>0.418622</td>\n",
              "      <td>0.720916</td>\n",
              "      <td>-6.183590</td>\n",
              "      <td>0.226278</td>\n",
              "      <td>2.589702</td>\n",
              "      <td>0.147403</td>\n",
              "    </tr>\n",
              "  </tbody>\n",
              "</table>\n",
              "<p>5 rows × 24 columns</p>\n",
              "</div>\n",
              "      <button class=\"colab-df-convert\" onclick=\"convertToInteractive('df-2a6556a7-39ad-4ecb-b43c-fa448c4021a3')\"\n",
              "              title=\"Convert this dataframe to an interactive table.\"\n",
              "              style=\"display:none;\">\n",
              "        \n",
              "  <svg xmlns=\"http://www.w3.org/2000/svg\" height=\"24px\"viewBox=\"0 0 24 24\"\n",
              "       width=\"24px\">\n",
              "    <path d=\"M0 0h24v24H0V0z\" fill=\"none\"/>\n",
              "    <path d=\"M18.56 5.44l.94 2.06.94-2.06 2.06-.94-2.06-.94-.94-2.06-.94 2.06-2.06.94zm-11 1L8.5 8.5l.94-2.06 2.06-.94-2.06-.94L8.5 2.5l-.94 2.06-2.06.94zm10 10l.94 2.06.94-2.06 2.06-.94-2.06-.94-.94-2.06-.94 2.06-2.06.94z\"/><path d=\"M17.41 7.96l-1.37-1.37c-.4-.4-.92-.59-1.43-.59-.52 0-1.04.2-1.43.59L10.3 9.45l-7.72 7.72c-.78.78-.78 2.05 0 2.83L4 21.41c.39.39.9.59 1.41.59.51 0 1.02-.2 1.41-.59l7.78-7.78 2.81-2.81c.8-.78.8-2.07 0-2.86zM5.41 20L4 18.59l7.72-7.72 1.47 1.35L5.41 20z\"/>\n",
              "  </svg>\n",
              "      </button>\n",
              "      \n",
              "  <style>\n",
              "    .colab-df-container {\n",
              "      display:flex;\n",
              "      flex-wrap:wrap;\n",
              "      gap: 12px;\n",
              "    }\n",
              "\n",
              "    .colab-df-convert {\n",
              "      background-color: #E8F0FE;\n",
              "      border: none;\n",
              "      border-radius: 50%;\n",
              "      cursor: pointer;\n",
              "      display: none;\n",
              "      fill: #1967D2;\n",
              "      height: 32px;\n",
              "      padding: 0 0 0 0;\n",
              "      width: 32px;\n",
              "    }\n",
              "\n",
              "    .colab-df-convert:hover {\n",
              "      background-color: #E2EBFA;\n",
              "      box-shadow: 0px 1px 2px rgba(60, 64, 67, 0.3), 0px 1px 3px 1px rgba(60, 64, 67, 0.15);\n",
              "      fill: #174EA6;\n",
              "    }\n",
              "\n",
              "    [theme=dark] .colab-df-convert {\n",
              "      background-color: #3B4455;\n",
              "      fill: #D2E3FC;\n",
              "    }\n",
              "\n",
              "    [theme=dark] .colab-df-convert:hover {\n",
              "      background-color: #434B5C;\n",
              "      box-shadow: 0px 1px 3px 1px rgba(0, 0, 0, 0.15);\n",
              "      filter: drop-shadow(0px 1px 2px rgba(0, 0, 0, 0.3));\n",
              "      fill: #FFFFFF;\n",
              "    }\n",
              "  </style>\n",
              "\n",
              "      <script>\n",
              "        const buttonEl =\n",
              "          document.querySelector('#df-2a6556a7-39ad-4ecb-b43c-fa448c4021a3 button.colab-df-convert');\n",
              "        buttonEl.style.display =\n",
              "          google.colab.kernel.accessAllowed ? 'block' : 'none';\n",
              "\n",
              "        async function convertToInteractive(key) {\n",
              "          const element = document.querySelector('#df-2a6556a7-39ad-4ecb-b43c-fa448c4021a3');\n",
              "          const dataTable =\n",
              "            await google.colab.kernel.invokeFunction('convertToInteractive',\n",
              "                                                     [key], {});\n",
              "          if (!dataTable) return;\n",
              "\n",
              "          const docLinkHtml = 'Like what you see? Visit the ' +\n",
              "            '<a target=\"_blank\" href=https://colab.research.google.com/notebooks/data_table.ipynb>data table notebook</a>'\n",
              "            + ' to learn more about interactive tables.';\n",
              "          element.innerHTML = '';\n",
              "          dataTable['output_type'] = 'display_data';\n",
              "          await google.colab.output.renderOutput(dataTable, element);\n",
              "          const docLink = document.createElement('div');\n",
              "          docLink.innerHTML = docLinkHtml;\n",
              "          element.appendChild(docLink);\n",
              "        }\n",
              "      </script>\n",
              "    </div>\n",
              "  </div>\n",
              "  "
            ]
          },
          "metadata": {},
          "execution_count": 41
        }
      ]
    },
    {
      "cell_type": "markdown",
      "source": [
        "### Checking Missing Values"
      ],
      "metadata": {
        "id": "tscD9XY8RZAu"
      }
    },
    {
      "cell_type": "code",
      "source": [
        "df.isnull().sum()"
      ],
      "metadata": {
        "colab": {
          "base_uri": "https://localhost:8080/"
        },
        "id": "NjGhNiOsQQPl",
        "outputId": "a37afc37-4dde-420d-86f9-8d0b449b0ad6"
      },
      "execution_count": null,
      "outputs": [
        {
          "output_type": "execute_result",
          "data": {
            "text/plain": [
              "name                0\n",
              "MDVP:Fo(Hz)         0\n",
              "MDVP:Fhi(Hz)        0\n",
              "MDVP:Flo(Hz)        0\n",
              "MDVP:Jitter(%)      0\n",
              "MDVP:Jitter(Abs)    0\n",
              "MDVP:RAP            0\n",
              "MDVP:PPQ            0\n",
              "Jitter:DDP          0\n",
              "MDVP:Shimmer        0\n",
              "MDVP:Shimmer(dB)    0\n",
              "Shimmer:APQ3        0\n",
              "Shimmer:APQ5        0\n",
              "MDVP:APQ            0\n",
              "Shimmer:DDA         0\n",
              "NHR                 0\n",
              "HNR                 0\n",
              "status              0\n",
              "RPDE                0\n",
              "DFA                 0\n",
              "spread1             0\n",
              "spread2             0\n",
              "D2                  0\n",
              "PPE                 0\n",
              "dtype: int64"
            ]
          },
          "metadata": {},
          "execution_count": 42
        }
      ]
    },
    {
      "cell_type": "markdown",
      "source": [
        "### Checking Duplicate Values"
      ],
      "metadata": {
        "id": "4YNpw7YfRk5F"
      }
    },
    {
      "cell_type": "code",
      "source": [
        "df.duplicated().sum()"
      ],
      "metadata": {
        "colab": {
          "base_uri": "https://localhost:8080/"
        },
        "id": "cd3CH1TWQ754",
        "outputId": "a13a6abd-d0c0-4dca-f801-71cbb7c480cb"
      },
      "execution_count": null,
      "outputs": [
        {
          "output_type": "execute_result",
          "data": {
            "text/plain": [
              "0"
            ]
          },
          "metadata": {},
          "execution_count": 43
        }
      ]
    },
    {
      "cell_type": "markdown",
      "source": [
        "### Drop unwanted columns"
      ],
      "metadata": {
        "id": "uEA8zzs-RsMU"
      }
    },
    {
      "cell_type": "code",
      "source": [
        "df = df.drop(columns='name')"
      ],
      "metadata": {
        "id": "pM-NZG17RJIO"
      },
      "execution_count": null,
      "outputs": []
    },
    {
      "cell_type": "markdown",
      "source": [
        "### To check how skewed the data is "
      ],
      "metadata": {
        "id": "37VMKGPpexm6"
      }
    },
    {
      "cell_type": "code",
      "source": [
        "df.skew()"
      ],
      "metadata": {
        "colab": {
          "base_uri": "https://localhost:8080/"
        },
        "id": "sOQ-j5XutxQO",
        "outputId": "dcce635b-dc3f-4781-8957-ba7c11edf4da"
      },
      "execution_count": null,
      "outputs": [
        {
          "output_type": "execute_result",
          "data": {
            "text/plain": [
              "MDVP:Fo(Hz)         0.591737\n",
              "MDVP:Fhi(Hz)        2.542146\n",
              "MDVP:Flo(Hz)        1.217350\n",
              "MDVP:Jitter(%)      3.084946\n",
              "MDVP:Jitter(Abs)    2.649071\n",
              "MDVP:RAP            3.360708\n",
              "MDVP:PPQ            3.073892\n",
              "Jitter:DDP          3.362058\n",
              "MDVP:Shimmer        1.666480\n",
              "MDVP:Shimmer(dB)    1.999389\n",
              "Shimmer:APQ3        1.580576\n",
              "Shimmer:APQ5        1.798697\n",
              "MDVP:APQ            2.618047\n",
              "Shimmer:DDA         1.580618\n",
              "NHR                 4.220709\n",
              "HNR                -0.514317\n",
              "status             -1.187727\n",
              "RPDE               -0.143402\n",
              "DFA                -0.033214\n",
              "spread1             0.432139\n",
              "spread2             0.144430\n",
              "D2                  0.430384\n",
              "PPE                 0.797491\n",
              "dtype: float64"
            ]
          },
          "metadata": {},
          "execution_count": 45
        }
      ]
    },
    {
      "cell_type": "markdown",
      "source": [
        "### Renaming Columns"
      ],
      "metadata": {
        "id": "VT8u61pcetll"
      }
    },
    {
      "cell_type": "code",
      "source": [
        "df.rename(columns=({'MDVP:Fo(Hz)':'avg_fre', 'MDVP:Fhi(Hz)':'max_fre', 'MDVP:Flo(Hz)':'min_fre', 'MDVP:Jitter(%)':'jitter_per',\n",
        "       'MDVP:Jitter(Abs)':'jitter_abs', 'MDVP:RAP':'mdvp_rap', 'MDVP:PPQ':'mdvp_ppq', 'Jitter:DDP':'ddp_jitter',\n",
        "       'MDVP:Shimmer':'shimmer_amp1', 'MDVP:Shimmer(dB)':'shimmer_db', 'Shimmer:APQ3':'shimmer_apq3', 'Shimmer:APQ5':'shimmer_apq5',\n",
        "       'MDVP:APQ':'mdvp_apq', 'Shimmer:DDA':'shimmer_dda'}),inplace=True)\n",
        "df"
      ],
      "metadata": {
        "colab": {
          "base_uri": "https://localhost:8080/",
          "height": 488
        },
        "id": "dF5bCqNGxdjD",
        "outputId": "75197867-d802-41c8-f2ea-4c432e51b38e"
      },
      "execution_count": null,
      "outputs": [
        {
          "output_type": "execute_result",
          "data": {
            "text/plain": [
              "     avg_fre  max_fre  min_fre  jitter_per  jitter_abs  mdvp_rap  mdvp_ppq  \\\n",
              "0    119.992  157.302   74.997     0.00784     0.00007   0.00370   0.00554   \n",
              "1    122.400  148.650  113.819     0.00968     0.00008   0.00465   0.00696   \n",
              "2    116.682  131.111  111.555     0.01050     0.00009   0.00544   0.00781   \n",
              "3    116.676  137.871  111.366     0.00997     0.00009   0.00502   0.00698   \n",
              "4    116.014  141.781  110.655     0.01284     0.00011   0.00655   0.00908   \n",
              "..       ...      ...      ...         ...         ...       ...       ...   \n",
              "190  174.188  230.978   94.261     0.00459     0.00003   0.00263   0.00259   \n",
              "191  209.516  253.017   89.488     0.00564     0.00003   0.00331   0.00292   \n",
              "192  174.688  240.005   74.287     0.01360     0.00008   0.00624   0.00564   \n",
              "193  198.764  396.961   74.904     0.00740     0.00004   0.00370   0.00390   \n",
              "194  214.289  260.277   77.973     0.00567     0.00003   0.00295   0.00317   \n",
              "\n",
              "     ddp_jitter  shimmer_amp1  shimmer_db  ...  shimmer_dda      NHR     HNR  \\\n",
              "0       0.01109       0.04374       0.426  ...      0.06545  0.02211  21.033   \n",
              "1       0.01394       0.06134       0.626  ...      0.09403  0.01929  19.085   \n",
              "2       0.01633       0.05233       0.482  ...      0.08270  0.01309  20.651   \n",
              "3       0.01505       0.05492       0.517  ...      0.08771  0.01353  20.644   \n",
              "4       0.01966       0.06425       0.584  ...      0.10470  0.01767  19.649   \n",
              "..          ...           ...         ...  ...          ...      ...     ...   \n",
              "190     0.00790       0.04087       0.405  ...      0.07008  0.02764  19.517   \n",
              "191     0.00994       0.02751       0.263  ...      0.04812  0.01810  19.147   \n",
              "192     0.01873       0.02308       0.256  ...      0.03804  0.10715  17.883   \n",
              "193     0.01109       0.02296       0.241  ...      0.03794  0.07223  19.020   \n",
              "194     0.00885       0.01884       0.190  ...      0.03078  0.04398  21.209   \n",
              "\n",
              "     status      RPDE       DFA   spread1   spread2        D2       PPE  \n",
              "0         1  0.414783  0.815285 -4.813031  0.266482  2.301442  0.284654  \n",
              "1         1  0.458359  0.819521 -4.075192  0.335590  2.486855  0.368674  \n",
              "2         1  0.429895  0.825288 -4.443179  0.311173  2.342259  0.332634  \n",
              "3         1  0.434969  0.819235 -4.117501  0.334147  2.405554  0.368975  \n",
              "4         1  0.417356  0.823484 -3.747787  0.234513  2.332180  0.410335  \n",
              "..      ...       ...       ...       ...       ...       ...       ...  \n",
              "190       0  0.448439  0.657899 -6.538586  0.121952  2.657476  0.133050  \n",
              "191       0  0.431674  0.683244 -6.195325  0.129303  2.784312  0.168895  \n",
              "192       0  0.407567  0.655683 -6.787197  0.158453  2.679772  0.131728  \n",
              "193       0  0.451221  0.643956 -6.744577  0.207454  2.138608  0.123306  \n",
              "194       0  0.462803  0.664357 -5.724056  0.190667  2.555477  0.148569  \n",
              "\n",
              "[195 rows x 23 columns]"
            ],
            "text/html": [
              "\n",
              "  <div id=\"df-fd822288-96b6-4847-92c9-f5d77b1bc72a\">\n",
              "    <div class=\"colab-df-container\">\n",
              "      <div>\n",
              "<style scoped>\n",
              "    .dataframe tbody tr th:only-of-type {\n",
              "        vertical-align: middle;\n",
              "    }\n",
              "\n",
              "    .dataframe tbody tr th {\n",
              "        vertical-align: top;\n",
              "    }\n",
              "\n",
              "    .dataframe thead th {\n",
              "        text-align: right;\n",
              "    }\n",
              "</style>\n",
              "<table border=\"1\" class=\"dataframe\">\n",
              "  <thead>\n",
              "    <tr style=\"text-align: right;\">\n",
              "      <th></th>\n",
              "      <th>avg_fre</th>\n",
              "      <th>max_fre</th>\n",
              "      <th>min_fre</th>\n",
              "      <th>jitter_per</th>\n",
              "      <th>jitter_abs</th>\n",
              "      <th>mdvp_rap</th>\n",
              "      <th>mdvp_ppq</th>\n",
              "      <th>ddp_jitter</th>\n",
              "      <th>shimmer_amp1</th>\n",
              "      <th>shimmer_db</th>\n",
              "      <th>...</th>\n",
              "      <th>shimmer_dda</th>\n",
              "      <th>NHR</th>\n",
              "      <th>HNR</th>\n",
              "      <th>status</th>\n",
              "      <th>RPDE</th>\n",
              "      <th>DFA</th>\n",
              "      <th>spread1</th>\n",
              "      <th>spread2</th>\n",
              "      <th>D2</th>\n",
              "      <th>PPE</th>\n",
              "    </tr>\n",
              "  </thead>\n",
              "  <tbody>\n",
              "    <tr>\n",
              "      <th>0</th>\n",
              "      <td>119.992</td>\n",
              "      <td>157.302</td>\n",
              "      <td>74.997</td>\n",
              "      <td>0.00784</td>\n",
              "      <td>0.00007</td>\n",
              "      <td>0.00370</td>\n",
              "      <td>0.00554</td>\n",
              "      <td>0.01109</td>\n",
              "      <td>0.04374</td>\n",
              "      <td>0.426</td>\n",
              "      <td>...</td>\n",
              "      <td>0.06545</td>\n",
              "      <td>0.02211</td>\n",
              "      <td>21.033</td>\n",
              "      <td>1</td>\n",
              "      <td>0.414783</td>\n",
              "      <td>0.815285</td>\n",
              "      <td>-4.813031</td>\n",
              "      <td>0.266482</td>\n",
              "      <td>2.301442</td>\n",
              "      <td>0.284654</td>\n",
              "    </tr>\n",
              "    <tr>\n",
              "      <th>1</th>\n",
              "      <td>122.400</td>\n",
              "      <td>148.650</td>\n",
              "      <td>113.819</td>\n",
              "      <td>0.00968</td>\n",
              "      <td>0.00008</td>\n",
              "      <td>0.00465</td>\n",
              "      <td>0.00696</td>\n",
              "      <td>0.01394</td>\n",
              "      <td>0.06134</td>\n",
              "      <td>0.626</td>\n",
              "      <td>...</td>\n",
              "      <td>0.09403</td>\n",
              "      <td>0.01929</td>\n",
              "      <td>19.085</td>\n",
              "      <td>1</td>\n",
              "      <td>0.458359</td>\n",
              "      <td>0.819521</td>\n",
              "      <td>-4.075192</td>\n",
              "      <td>0.335590</td>\n",
              "      <td>2.486855</td>\n",
              "      <td>0.368674</td>\n",
              "    </tr>\n",
              "    <tr>\n",
              "      <th>2</th>\n",
              "      <td>116.682</td>\n",
              "      <td>131.111</td>\n",
              "      <td>111.555</td>\n",
              "      <td>0.01050</td>\n",
              "      <td>0.00009</td>\n",
              "      <td>0.00544</td>\n",
              "      <td>0.00781</td>\n",
              "      <td>0.01633</td>\n",
              "      <td>0.05233</td>\n",
              "      <td>0.482</td>\n",
              "      <td>...</td>\n",
              "      <td>0.08270</td>\n",
              "      <td>0.01309</td>\n",
              "      <td>20.651</td>\n",
              "      <td>1</td>\n",
              "      <td>0.429895</td>\n",
              "      <td>0.825288</td>\n",
              "      <td>-4.443179</td>\n",
              "      <td>0.311173</td>\n",
              "      <td>2.342259</td>\n",
              "      <td>0.332634</td>\n",
              "    </tr>\n",
              "    <tr>\n",
              "      <th>3</th>\n",
              "      <td>116.676</td>\n",
              "      <td>137.871</td>\n",
              "      <td>111.366</td>\n",
              "      <td>0.00997</td>\n",
              "      <td>0.00009</td>\n",
              "      <td>0.00502</td>\n",
              "      <td>0.00698</td>\n",
              "      <td>0.01505</td>\n",
              "      <td>0.05492</td>\n",
              "      <td>0.517</td>\n",
              "      <td>...</td>\n",
              "      <td>0.08771</td>\n",
              "      <td>0.01353</td>\n",
              "      <td>20.644</td>\n",
              "      <td>1</td>\n",
              "      <td>0.434969</td>\n",
              "      <td>0.819235</td>\n",
              "      <td>-4.117501</td>\n",
              "      <td>0.334147</td>\n",
              "      <td>2.405554</td>\n",
              "      <td>0.368975</td>\n",
              "    </tr>\n",
              "    <tr>\n",
              "      <th>4</th>\n",
              "      <td>116.014</td>\n",
              "      <td>141.781</td>\n",
              "      <td>110.655</td>\n",
              "      <td>0.01284</td>\n",
              "      <td>0.00011</td>\n",
              "      <td>0.00655</td>\n",
              "      <td>0.00908</td>\n",
              "      <td>0.01966</td>\n",
              "      <td>0.06425</td>\n",
              "      <td>0.584</td>\n",
              "      <td>...</td>\n",
              "      <td>0.10470</td>\n",
              "      <td>0.01767</td>\n",
              "      <td>19.649</td>\n",
              "      <td>1</td>\n",
              "      <td>0.417356</td>\n",
              "      <td>0.823484</td>\n",
              "      <td>-3.747787</td>\n",
              "      <td>0.234513</td>\n",
              "      <td>2.332180</td>\n",
              "      <td>0.410335</td>\n",
              "    </tr>\n",
              "    <tr>\n",
              "      <th>...</th>\n",
              "      <td>...</td>\n",
              "      <td>...</td>\n",
              "      <td>...</td>\n",
              "      <td>...</td>\n",
              "      <td>...</td>\n",
              "      <td>...</td>\n",
              "      <td>...</td>\n",
              "      <td>...</td>\n",
              "      <td>...</td>\n",
              "      <td>...</td>\n",
              "      <td>...</td>\n",
              "      <td>...</td>\n",
              "      <td>...</td>\n",
              "      <td>...</td>\n",
              "      <td>...</td>\n",
              "      <td>...</td>\n",
              "      <td>...</td>\n",
              "      <td>...</td>\n",
              "      <td>...</td>\n",
              "      <td>...</td>\n",
              "      <td>...</td>\n",
              "    </tr>\n",
              "    <tr>\n",
              "      <th>190</th>\n",
              "      <td>174.188</td>\n",
              "      <td>230.978</td>\n",
              "      <td>94.261</td>\n",
              "      <td>0.00459</td>\n",
              "      <td>0.00003</td>\n",
              "      <td>0.00263</td>\n",
              "      <td>0.00259</td>\n",
              "      <td>0.00790</td>\n",
              "      <td>0.04087</td>\n",
              "      <td>0.405</td>\n",
              "      <td>...</td>\n",
              "      <td>0.07008</td>\n",
              "      <td>0.02764</td>\n",
              "      <td>19.517</td>\n",
              "      <td>0</td>\n",
              "      <td>0.448439</td>\n",
              "      <td>0.657899</td>\n",
              "      <td>-6.538586</td>\n",
              "      <td>0.121952</td>\n",
              "      <td>2.657476</td>\n",
              "      <td>0.133050</td>\n",
              "    </tr>\n",
              "    <tr>\n",
              "      <th>191</th>\n",
              "      <td>209.516</td>\n",
              "      <td>253.017</td>\n",
              "      <td>89.488</td>\n",
              "      <td>0.00564</td>\n",
              "      <td>0.00003</td>\n",
              "      <td>0.00331</td>\n",
              "      <td>0.00292</td>\n",
              "      <td>0.00994</td>\n",
              "      <td>0.02751</td>\n",
              "      <td>0.263</td>\n",
              "      <td>...</td>\n",
              "      <td>0.04812</td>\n",
              "      <td>0.01810</td>\n",
              "      <td>19.147</td>\n",
              "      <td>0</td>\n",
              "      <td>0.431674</td>\n",
              "      <td>0.683244</td>\n",
              "      <td>-6.195325</td>\n",
              "      <td>0.129303</td>\n",
              "      <td>2.784312</td>\n",
              "      <td>0.168895</td>\n",
              "    </tr>\n",
              "    <tr>\n",
              "      <th>192</th>\n",
              "      <td>174.688</td>\n",
              "      <td>240.005</td>\n",
              "      <td>74.287</td>\n",
              "      <td>0.01360</td>\n",
              "      <td>0.00008</td>\n",
              "      <td>0.00624</td>\n",
              "      <td>0.00564</td>\n",
              "      <td>0.01873</td>\n",
              "      <td>0.02308</td>\n",
              "      <td>0.256</td>\n",
              "      <td>...</td>\n",
              "      <td>0.03804</td>\n",
              "      <td>0.10715</td>\n",
              "      <td>17.883</td>\n",
              "      <td>0</td>\n",
              "      <td>0.407567</td>\n",
              "      <td>0.655683</td>\n",
              "      <td>-6.787197</td>\n",
              "      <td>0.158453</td>\n",
              "      <td>2.679772</td>\n",
              "      <td>0.131728</td>\n",
              "    </tr>\n",
              "    <tr>\n",
              "      <th>193</th>\n",
              "      <td>198.764</td>\n",
              "      <td>396.961</td>\n",
              "      <td>74.904</td>\n",
              "      <td>0.00740</td>\n",
              "      <td>0.00004</td>\n",
              "      <td>0.00370</td>\n",
              "      <td>0.00390</td>\n",
              "      <td>0.01109</td>\n",
              "      <td>0.02296</td>\n",
              "      <td>0.241</td>\n",
              "      <td>...</td>\n",
              "      <td>0.03794</td>\n",
              "      <td>0.07223</td>\n",
              "      <td>19.020</td>\n",
              "      <td>0</td>\n",
              "      <td>0.451221</td>\n",
              "      <td>0.643956</td>\n",
              "      <td>-6.744577</td>\n",
              "      <td>0.207454</td>\n",
              "      <td>2.138608</td>\n",
              "      <td>0.123306</td>\n",
              "    </tr>\n",
              "    <tr>\n",
              "      <th>194</th>\n",
              "      <td>214.289</td>\n",
              "      <td>260.277</td>\n",
              "      <td>77.973</td>\n",
              "      <td>0.00567</td>\n",
              "      <td>0.00003</td>\n",
              "      <td>0.00295</td>\n",
              "      <td>0.00317</td>\n",
              "      <td>0.00885</td>\n",
              "      <td>0.01884</td>\n",
              "      <td>0.190</td>\n",
              "      <td>...</td>\n",
              "      <td>0.03078</td>\n",
              "      <td>0.04398</td>\n",
              "      <td>21.209</td>\n",
              "      <td>0</td>\n",
              "      <td>0.462803</td>\n",
              "      <td>0.664357</td>\n",
              "      <td>-5.724056</td>\n",
              "      <td>0.190667</td>\n",
              "      <td>2.555477</td>\n",
              "      <td>0.148569</td>\n",
              "    </tr>\n",
              "  </tbody>\n",
              "</table>\n",
              "<p>195 rows × 23 columns</p>\n",
              "</div>\n",
              "      <button class=\"colab-df-convert\" onclick=\"convertToInteractive('df-fd822288-96b6-4847-92c9-f5d77b1bc72a')\"\n",
              "              title=\"Convert this dataframe to an interactive table.\"\n",
              "              style=\"display:none;\">\n",
              "        \n",
              "  <svg xmlns=\"http://www.w3.org/2000/svg\" height=\"24px\"viewBox=\"0 0 24 24\"\n",
              "       width=\"24px\">\n",
              "    <path d=\"M0 0h24v24H0V0z\" fill=\"none\"/>\n",
              "    <path d=\"M18.56 5.44l.94 2.06.94-2.06 2.06-.94-2.06-.94-.94-2.06-.94 2.06-2.06.94zm-11 1L8.5 8.5l.94-2.06 2.06-.94-2.06-.94L8.5 2.5l-.94 2.06-2.06.94zm10 10l.94 2.06.94-2.06 2.06-.94-2.06-.94-.94-2.06-.94 2.06-2.06.94z\"/><path d=\"M17.41 7.96l-1.37-1.37c-.4-.4-.92-.59-1.43-.59-.52 0-1.04.2-1.43.59L10.3 9.45l-7.72 7.72c-.78.78-.78 2.05 0 2.83L4 21.41c.39.39.9.59 1.41.59.51 0 1.02-.2 1.41-.59l7.78-7.78 2.81-2.81c.8-.78.8-2.07 0-2.86zM5.41 20L4 18.59l7.72-7.72 1.47 1.35L5.41 20z\"/>\n",
              "  </svg>\n",
              "      </button>\n",
              "      \n",
              "  <style>\n",
              "    .colab-df-container {\n",
              "      display:flex;\n",
              "      flex-wrap:wrap;\n",
              "      gap: 12px;\n",
              "    }\n",
              "\n",
              "    .colab-df-convert {\n",
              "      background-color: #E8F0FE;\n",
              "      border: none;\n",
              "      border-radius: 50%;\n",
              "      cursor: pointer;\n",
              "      display: none;\n",
              "      fill: #1967D2;\n",
              "      height: 32px;\n",
              "      padding: 0 0 0 0;\n",
              "      width: 32px;\n",
              "    }\n",
              "\n",
              "    .colab-df-convert:hover {\n",
              "      background-color: #E2EBFA;\n",
              "      box-shadow: 0px 1px 2px rgba(60, 64, 67, 0.3), 0px 1px 3px 1px rgba(60, 64, 67, 0.15);\n",
              "      fill: #174EA6;\n",
              "    }\n",
              "\n",
              "    [theme=dark] .colab-df-convert {\n",
              "      background-color: #3B4455;\n",
              "      fill: #D2E3FC;\n",
              "    }\n",
              "\n",
              "    [theme=dark] .colab-df-convert:hover {\n",
              "      background-color: #434B5C;\n",
              "      box-shadow: 0px 1px 3px 1px rgba(0, 0, 0, 0.15);\n",
              "      filter: drop-shadow(0px 1px 2px rgba(0, 0, 0, 0.3));\n",
              "      fill: #FFFFFF;\n",
              "    }\n",
              "  </style>\n",
              "\n",
              "      <script>\n",
              "        const buttonEl =\n",
              "          document.querySelector('#df-fd822288-96b6-4847-92c9-f5d77b1bc72a button.colab-df-convert');\n",
              "        buttonEl.style.display =\n",
              "          google.colab.kernel.accessAllowed ? 'block' : 'none';\n",
              "\n",
              "        async function convertToInteractive(key) {\n",
              "          const element = document.querySelector('#df-fd822288-96b6-4847-92c9-f5d77b1bc72a');\n",
              "          const dataTable =\n",
              "            await google.colab.kernel.invokeFunction('convertToInteractive',\n",
              "                                                     [key], {});\n",
              "          if (!dataTable) return;\n",
              "\n",
              "          const docLinkHtml = 'Like what you see? Visit the ' +\n",
              "            '<a target=\"_blank\" href=https://colab.research.google.com/notebooks/data_table.ipynb>data table notebook</a>'\n",
              "            + ' to learn more about interactive tables.';\n",
              "          element.innerHTML = '';\n",
              "          dataTable['output_type'] = 'display_data';\n",
              "          await google.colab.output.renderOutput(dataTable, element);\n",
              "          const docLink = document.createElement('div');\n",
              "          docLink.innerHTML = docLinkHtml;\n",
              "          element.appendChild(docLink);\n",
              "        }\n",
              "      </script>\n",
              "    </div>\n",
              "  </div>\n",
              "  "
            ]
          },
          "metadata": {},
          "execution_count": 46
        }
      ]
    },
    {
      "cell_type": "markdown",
      "source": [
        "### Separating Input feature from Output feature"
      ],
      "metadata": {
        "id": "o4f2cDFpe5sk"
      }
    },
    {
      "cell_type": "code",
      "source": [
        "x = df.iloc[:,df.columns!='status']\n",
        "y = df.iloc[:,df.columns=='status']"
      ],
      "metadata": {
        "id": "bUcxARmngKrL"
      },
      "execution_count": null,
      "outputs": []
    },
    {
      "cell_type": "code",
      "source": [
        "x.hist(figsize=(25,20))\n",
        "plt.show()"
      ],
      "metadata": {
        "colab": {
          "base_uri": "https://localhost:8080/",
          "height": 693
        },
        "id": "RXvf9Ia1tz9-",
        "outputId": "c2f87fdd-341c-4657-e00f-ae8fd40323bd"
      },
      "execution_count": null,
      "outputs": [
        {
          "output_type": "display_data",
          "data": {
            "text/plain": [
              "<Figure size 1800x1440 with 25 Axes>"
            ],
            "image/png": "[encoded data removed]"
          },
          "metadata": {
            "needs_background": "light"
          }
        }
      ]
    },
    {
      "cell_type": "code",
      "source": [
        "df.columns"
      ],
      "metadata": {
        "colab": {
          "base_uri": "https://localhost:8080/"
        },
        "id": "Lz7VRjZVuVnd",
        "outputId": "143be188-0583-424c-d002-73d09bf244ff"
      },
      "execution_count": null,
      "outputs": [
        {
          "output_type": "execute_result",
          "data": {
            "text/plain": [
              "Index(['avg_fre', 'max_fre', 'min_fre', 'jitter_per', 'jitter_abs', 'mdvp_rap',\n",
              "       'mdvp_ppq', 'ddp_jitter', 'shimmer_amp1', 'shimmer_db', 'shimmer_apq3',\n",
              "       'shimmer_apq5', 'mdvp_apq', 'shimmer_dda', 'NHR', 'HNR', 'status',\n",
              "       'RPDE', 'DFA', 'spread1', 'spread2', 'D2', 'PPE'],\n",
              "      dtype='object')"
            ]
          },
          "metadata": {},
          "execution_count": 49
        }
      ]
    },
    {
      "cell_type": "markdown",
      "source": [
        "### Removing Skewness"
      ],
      "metadata": {
        "id": "UXSTycE-fA8v"
      }
    },
    {
      "cell_type": "code",
      "source": [
        "df=df[df.max_fre<300]\n",
        "df=df[df.jitter_per<0.020]\n",
        "df=df[df.jitter_abs<0.00015]\n",
        "df=df[df.mdvp_rap<0.010]\n",
        "df=df[df.mdvp_ppq<0.01000]\n",
        "df=df[df.shimmer_amp1<0.08]\n",
        "df=df[df.shimmer_db<0.8]\n",
        "df=df[df.shimmer_apq3<0.04]\n",
        "df=df[df.shimmer_apq5<0.05]\n",
        "df=df[df.mdvp_apq<0.08]\n",
        "df=df[df.shimmer_dda<0.150]\n",
        "df=df[df.NHR<0.06]"
      ],
      "metadata": {
        "id": "YLwxvkzwxWI5"
      },
      "execution_count": null,
      "outputs": []
    },
    {
      "cell_type": "code",
      "source": [
        "df.skew()"
      ],
      "metadata": {
        "colab": {
          "base_uri": "https://localhost:8080/"
        },
        "id": "QYTxWALF112T",
        "outputId": "7b1b2729-4c8f-4345-8ca8-79f3007c9447"
      },
      "execution_count": null,
      "outputs": [
        {
          "output_type": "execute_result",
          "data": {
            "text/plain": [
              "avg_fre         0.638936\n",
              "max_fre         0.338641\n",
              "min_fre         1.251790\n",
              "jitter_per      0.821052\n",
              "jitter_abs      0.871523\n",
              "mdvp_rap        0.869012\n",
              "mdvp_ppq        1.464559\n",
              "ddp_jitter      0.868735\n",
              "shimmer_amp1    1.080701\n",
              "shimmer_db      1.136427\n",
              "shimmer_apq3    1.128437\n",
              "shimmer_apq5    1.464967\n",
              "mdvp_apq        1.080953\n",
              "shimmer_dda     1.128364\n",
              "NHR             1.324554\n",
              "HNR             0.185571\n",
              "status         -1.074337\n",
              "RPDE           -0.050766\n",
              "DFA            -0.124016\n",
              "spread1         0.308699\n",
              "spread2         0.119955\n",
              "D2              0.194064\n",
              "PPE             0.599573\n",
              "dtype: float64"
            ]
          },
          "metadata": {},
          "execution_count": 51
        }
      ]
    },
    {
      "cell_type": "markdown",
      "source": [
        "### Applying MinMaxScaler to all columns"
      ],
      "metadata": {
        "id": "mTIQEDPyf6nT"
      }
    },
    {
      "cell_type": "code",
      "source": [
        "scaler=MinMaxScaler((-1,1))\n",
        "x = scaler.fit_transform(x)"
      ],
      "metadata": {
        "id": "83CHczfz36s-"
      },
      "execution_count": null,
      "outputs": []
    },
    {
      "cell_type": "markdown",
      "source": [
        "### Train Test Split"
      ],
      "metadata": {
        "id": "vwmd8ZEIgCoy"
      }
    },
    {
      "cell_type": "code",
      "source": [
        "X_train,X_test,y_train,y_test = train_test_split(x,y,test_size=0.3,random_state=42)"
      ],
      "metadata": {
        "id": "hMqFhUkQ28FB"
      },
      "execution_count": null,
      "outputs": []
    },
    {
      "cell_type": "markdown",
      "source": [
        "### SVC"
      ],
      "metadata": {
        "id": "8OEshzrHgEvH"
      }
    },
    {
      "cell_type": "code",
      "source": [
        "from sklearn.svm import SVC\n",
        "model1 = SVC()\n",
        "model1.fit(X_train,y_train)\n",
        "predict1 = model1.predict(X_test)"
      ],
      "metadata": {
        "id": "frVEnSC38xti"
      },
      "execution_count": null,
      "outputs": []
    },
    {
      "cell_type": "code",
      "source": [
        "print(accuracy_score(y_test,predict1)*100)"
      ],
      "metadata": {
        "colab": {
          "base_uri": "https://localhost:8080/"
        },
        "id": "wljiTTSwApQr",
        "outputId": "736a0bfc-a9fa-409e-c0cd-adf1d9d4142f"
      },
      "execution_count": null,
      "outputs": [
        {
          "output_type": "stream",
          "name": "stdout",
          "text": [
            "88.13559322033898\n"
          ]
        }
      ]
    },
    {
      "cell_type": "code",
      "source": [
        "from sklearn.metrics import confusion_matrix\n",
        "cm=confusion_matrix(y_test,predict1)\n",
        "plt.figure(figsize=(8,6))\n",
        "fg=sns.heatmap(cm,annot=True,cmap='BuPu')\n",
        "figure=fg.get_figure()\n",
        "plt.xlabel('Actual')\n",
        "plt.ylabel('Predicted')\n",
        "plt.title('Output Confusion Matrix')"
      ],
      "metadata": {
        "colab": {
          "base_uri": "https://localhost:8080/",
          "height": 421
        },
        "id": "-mWK8Vd-jwRy",
        "outputId": "d477f1d2-3154-4160-f45e-c2eb6a94ffd2"
      },
      "execution_count": null,
      "outputs": [
        {
          "output_type": "execute_result",
          "data": {
            "text/plain": [
              "Text(0.5, 1.0, 'Output Confusion Matrix')"
            ]
          },
          "metadata": {},
          "execution_count": 56
        },
        {
          "output_type": "display_data",
          "data": {
            "text/plain": [
              "<Figure size 576x432 with 2 Axes>"
            ],
            "image/png": "[encoded data removed]"
          },
          "metadata": {
            "needs_background": "light"
          }
        }
      ]
    },
    {
      "cell_type": "markdown",
      "source": [
        "### ExtraTreesClassifier"
      ],
      "metadata": {
        "id": "RCOC-Tb-gOqf"
      }
    },
    {
      "cell_type": "code",
      "source": [
        "from sklearn.ensemble import ExtraTreesClassifier\n",
        "model2 = ExtraTreesClassifier()\n",
        "model2.fit(X_train,y_train)\n",
        "predict2 = model2.predict(X_test)"
      ],
      "metadata": {
        "id": "RND_nf2g-1_o"
      },
      "execution_count": null,
      "outputs": []
    },
    {
      "cell_type": "code",
      "source": [
        "print(accuracy_score(y_test,predict2)*100)"
      ],
      "metadata": {
        "colab": {
          "base_uri": "https://localhost:8080/"
        },
        "id": "xNWgy7mM_oNl",
        "outputId": "4e898f27-cdf8-4fc2-d5e6-68dde8726d38"
      },
      "execution_count": null,
      "outputs": [
        {
          "output_type": "stream",
          "name": "stdout",
          "text": [
            "94.91525423728814\n"
          ]
        }
      ]
    },
    {
      "cell_type": "code",
      "source": [
        "from sklearn.metrics import confusion_matrix\n",
        "cm=confusion_matrix(y_test,predict2)\n",
        "plt.figure(figsize=(8,6))\n",
        "fg=sns.heatmap(cm,annot=True,cmap='Reds')\n",
        "figure=fg.get_figure()\n",
        "plt.xlabel('Actual')\n",
        "plt.ylabel('Predicted')\n",
        "plt.title('Output Confusion Matrix')"
      ],
      "metadata": {
        "colab": {
          "base_uri": "https://localhost:8080/",
          "height": 421
        },
        "id": "IOga6pF7lskO",
        "outputId": "8ff16b67-8f3f-4ca4-94d6-924a34917fbb"
      },
      "execution_count": null,
      "outputs": [
        {
          "output_type": "execute_result",
          "data": {
            "text/plain": [
              "Text(0.5, 1.0, 'Output Confusion Matrix')"
            ]
          },
          "metadata": {},
          "execution_count": 59
        },
        {
          "output_type": "display_data",
          "data": {
            "text/plain": [
              "<Figure size 576x432 with 2 Axes>"
            ],
            "image/png": "[encoded data removed]"
          },
          "metadata": {
            "needs_background": "light"
          }
        }
      ]
    },
    {
      "cell_type": "markdown",
      "source": [
        "### XGBoost Classifier"
      ],
      "metadata": {
        "id": "k7yfWWuWgSCR"
      }
    },
    {
      "cell_type": "code",
      "source": [
        "from xgboost import XGBClassifier\n",
        "model3 = XGBClassifier()\n",
        "model3.fit(X_train,y_train)\n",
        "predict3 = model3.predict(X_test)"
      ],
      "metadata": {
        "id": "c0wPnOKt4Ofa"
      },
      "execution_count": null,
      "outputs": []
    },
    {
      "cell_type": "code",
      "source": [
        "print(accuracy_score(y_test,predict3)*100)"
      ],
      "metadata": {
        "colab": {
          "base_uri": "https://localhost:8080/"
        },
        "id": "uJ2vU2Xa5OCG",
        "outputId": "398450c3-2769-44f8-8242-132bce21c8b4"
      },
      "execution_count": null,
      "outputs": [
        {
          "output_type": "stream",
          "name": "stdout",
          "text": [
            "93.22033898305084\n"
          ]
        }
      ]
    },
    {
      "cell_type": "code",
      "source": [
        "from sklearn.metrics import confusion_matrix\n",
        "cm=confusion_matrix(y_test,predict3)\n",
        "plt.figure(figsize=(8,6))\n",
        "fg=sns.heatmap(cm,annot=True,cmap='icefire')\n",
        "figure=fg.get_figure()\n",
        "plt.xlabel('Actual')\n",
        "plt.ylabel('Predicted')\n",
        "plt.title('Output Confusion Matrix')"
      ],
      "metadata": {
        "colab": {
          "base_uri": "https://localhost:8080/",
          "height": 421
        },
        "id": "rxL7sFbAh6pi",
        "outputId": "270283f7-8f29-48ff-cddb-e65ffa4d659a"
      },
      "execution_count": null,
      "outputs": [
        {
          "output_type": "execute_result",
          "data": {
            "text/plain": [
              "Text(0.5, 1.0, 'Output Confusion Matrix')"
            ]
          },
          "metadata": {},
          "execution_count": 62
        },
        {
          "output_type": "display_data",
          "data": {
            "text/plain": [
              "<Figure size 576x432 with 2 Axes>"
            ],
            "image/png": "[encoded data removed]"
          },
          "metadata": {
            "needs_background": "light"
          }
        }
      ]
    },
    {
      "cell_type": "code",
      "source": [
        "pickle.dump(model1,open('SVC_model.pkl', 'wb'))\n",
        "pickle.dump(model2,open('ETC_model.pkl','wb'))\n",
        "pickle.dump(model3,open('XGB_model.pkl','wb'))"
      ],
      "metadata": {
        "id": "AFlmvPO695Yg"
      },
      "execution_count": null,
      "outputs": []
    }
  ]
}